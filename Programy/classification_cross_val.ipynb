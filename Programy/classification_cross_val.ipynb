{
 "cells": [
  {
   "cell_type": "markdown",
   "metadata": {},
   "source": [
    "### Libraries"
   ]
  },
  {
   "cell_type": "code",
   "execution_count": 1,
   "metadata": {},
   "outputs": [
    {
     "name": "stdout",
     "output_type": "stream",
     "text": [
      "Using device: cuda:0\n"
     ]
    }
   ],
   "source": [
    "# Python default library\n",
    "import random\n",
    "\n",
    "# Libraries for data manipulation\n",
    "import pandas as pd\n",
    "import numpy as np\n",
    "\n",
    "# Sklearn libraries\n",
    "from sklearn.model_selection import StratifiedKFold\n",
    "from sklearn.preprocessing import StandardScaler\n",
    "from sklearn.metrics import confusion_matrix\n",
    "\n",
    "# Torch libraries\n",
    "import torch\n",
    "import torch.nn as nn\n",
    "import torch.nn.functional as F\n",
    "from torch.utils.data import DataLoader, TensorDataset, Subset\n",
    "from torch.optim import Adam\n",
    "\n",
    "# Libraries for visualizations\n",
    "import seaborn as sns\n",
    "import matplotlib.pyplot as plt\n",
    "\n",
    "# To make the results are reproducible\n",
    "torch.manual_seed(42)\n",
    "random.seed(42)\n",
    "np.random.seed(42)\n",
    "\n",
    "# Check if GPU is available and set the device accordingly\n",
    "device = torch.device(\"cuda:0\" if torch.cuda.is_available() else \"cpu\")\n",
    "print(f'Using device: {device}')\n"
   ]
  },
  {
   "cell_type": "markdown",
   "metadata": {},
   "source": [
    "### Preparing the data"
   ]
  },
  {
   "cell_type": "code",
   "execution_count": 10,
   "metadata": {},
   "outputs": [],
   "source": [
    "# Load datasets\n",
    "df_train_val = pd.read_csv('Csv/third.csv')\n",
    "df_test = pd.read_csv('Csv/third_test.csv')\n",
    "\n",
    "# Drop the first column by index\n",
    "df_train_val.drop(df_train_val.columns[0], axis=1, inplace=True)\n",
    "df_test.drop(df_test.columns[0], axis=1, inplace=True)\n",
    "\n",
    "# Split features and target\n",
    "X_train_val = df_train_val.iloc[:, :-1].values\n",
    "y_train_val = df_train_val.iloc[:, -1].values\n",
    "X_test = df_test.iloc[:, :-1].values\n",
    "y_test = df_test.iloc[:, -1].values\n",
    "\n",
    "# Define Stratified K-Folds cross-validator\n",
    "skf = StratifiedKFold(n_splits=5, shuffle=True, random_state=42)"
   ]
  },
  {
   "cell_type": "markdown",
   "metadata": {},
   "source": [
    "### Define TabNet model"
   ]
  },
  {
   "cell_type": "code",
   "execution_count": 4,
   "metadata": {},
   "outputs": [],
   "source": [
    "class TabNet(nn.Module):\n",
    "    def __init__(self, input_dim, output_dim):\n",
    "        super(TabNet, self).__init__()\n",
    "        self.bn0 = nn.BatchNorm1d(num_features=input_dim)\n",
    "        self.fc1 = nn.Linear(input_dim, 64)\n",
    "        self.bn1 = nn.BatchNorm1d(num_features=64)\n",
    "        self.fc2 = nn.Linear(64, output_dim)\n",
    "\n",
    "    def forward(self, x):\n",
    "        x = self.bn0(x)\n",
    "        x = F.relu(self.fc1(x))\n",
    "        x = self.bn1(x)\n",
    "        x = F.relu(self.fc2(x))\n",
    "        return x"
   ]
  },
  {
   "cell_type": "markdown",
   "metadata": {},
   "source": [
    "### Define taining and evaluation function"
   ]
  },
  {
   "cell_type": "code",
   "execution_count": 47,
   "metadata": {},
   "outputs": [],
   "source": [
    "def train_and_evaluate_model(model, train_loader, val_loader, criterion, optimizer, device, epochs=600):\n",
    "    model.to(device)  # Move model to the appropriate device\n",
    "    train_loss_list, val_loss_list = [], []\n",
    "    train_accuracy_list, val_accuracy_list = [], []\n",
    "    \n",
    "    for epoch in range(epochs):\n",
    "        # Training step\n",
    "        model.train()\n",
    "        total_loss, total_correct = 0, 0\n",
    "        for data, target in train_loader:\n",
    "            # Move data to the device\n",
    "            data, target = data.to(device), target.to(device) \n",
    "            \n",
    "            optimizer.zero_grad()\n",
    "            output = model(data)\n",
    "            loss = criterion(output, target)\n",
    "            loss.backward()\n",
    "            optimizer.step()\n",
    "            total_loss += loss.item()\n",
    "            _, preds = torch.max(output, 1)\n",
    "            total_correct += torch.sum(preds == target).item()\n",
    "\n",
    "        train_loss = total_loss / len(train_loader.dataset)\n",
    "        train_accuracy = total_correct / len(train_loader.dataset)\n",
    "        \n",
    "        # Evaluation step\n",
    "        model.eval()\n",
    "        total_loss, total_correct = 0, 0\n",
    "        with torch.no_grad():\n",
    "            for data, target in val_loader:\n",
    "                data, target = data.to(device), target.to(device)\n",
    "                output = model(data)\n",
    "                loss = criterion(output, target)\n",
    "                total_loss += loss.item()\n",
    "                _, preds = torch.max(output, 1)\n",
    "                total_correct += torch.sum(preds == target).item()\n",
    "                \n",
    "        val_loss = total_loss / len(val_loader.dataset)\n",
    "        val_accuracy = total_correct / len(val_loader.dataset)\n",
    "        \n",
    "        # Append current epoch metrics to lists\n",
    "        train_loss_list.append(train_loss)\n",
    "        val_loss_list.append(val_loss)\n",
    "        train_accuracy_list.append(train_accuracy)\n",
    "        val_accuracy_list.append(val_accuracy)\n",
    "        \n",
    "        # Optional: Print epoch results here or implement early stopping\n",
    "\n",
    "    return {\n",
    "        'train_loss': train_loss_list,\n",
    "        'val_loss': val_loss_list,\n",
    "        'train_accuracy': train_accuracy_list,\n",
    "        'val_accuracy': val_accuracy_list\n",
    "    }"
   ]
  },
  {
   "cell_type": "markdown",
   "metadata": {},
   "source": [
    "### Stratified K-fold validation"
   ]
  },
  {
   "cell_type": "code",
   "execution_count": 48,
   "metadata": {},
   "outputs": [
    {
     "name": "stdout",
     "output_type": "stream",
     "text": [
      "FOLD 0\n",
      "--------------------------------\n",
      "Results for fold 0:\n",
      "Training Loss: 0.01670611488435379, Validation Loss: 0.031032352759083382\n",
      "Training Accuracy: 0.5960845563929656, Validation Accuracy: 0.5713240349021682\n",
      "\n",
      "FOLD 1\n",
      "--------------------------------\n",
      "Results for fold 1:\n",
      "Training Loss: 0.016691288179363474, Validation Loss: 0.018216422121776297\n",
      "Training Accuracy: 0.5945267136041604, Validation Accuracy: 0.5769024637489533\n",
      "\n",
      "FOLD 2\n",
      "--------------------------------\n",
      "Results for fold 2:\n",
      "Training Loss: 0.016661496762194538, Validation Loss: 0.01803798614976555\n",
      "Training Accuracy: 0.5965111999911854, Validation Accuracy: 0.5729157300894707\n",
      "\n",
      "FOLD 3\n",
      "--------------------------------\n",
      "Results for fold 3:\n",
      "Training Loss: 0.016653761398575676, Validation Loss: 0.046304941444224985\n",
      "Training Accuracy: 0.5967142101609757, Validation Accuracy: 0.5705791352637842\n",
      "\n",
      "FOLD 4\n",
      "--------------------------------\n",
      "Results for fold 4:\n",
      "Training Loss: 0.016692202946201107, Validation Loss: 0.018623637561679562\n",
      "Training Accuracy: 0.5948036007448297, Validation Accuracy: 0.5748878311075852\n",
      "\n"
     ]
    }
   ],
   "source": [
    "# Placeholder for fold performance\n",
    "# Initialize lists to store the aggregated results across folds\n",
    "aggregated_train_losses, aggregated_val_losses = [], []\n",
    "aggregated_train_accuracies, aggregated_val_accuracies = [], []\n",
    "\n",
    "for fold, (train_index, val_index) in enumerate(skf.split(X_train_val, y_train_val)):\n",
    "    print(f'FOLD {fold}')\n",
    "    print('--------------------------------')\n",
    "    \n",
    "    # Split data into training and validation folds\n",
    "    X_train, X_val = X_train_val[train_index], X_train_val[val_index]\n",
    "    y_train, y_val = y_train_val[train_index], y_train_val[val_index]\n",
    "    \n",
    "    # Normalize features (fit on training data, transform both training and validation data)\n",
    "    scaler = StandardScaler()\n",
    "    X_train = scaler.fit_transform(X_train)\n",
    "    X_val = scaler.transform(X_val)\n",
    "    \n",
    "    # Convert to PyTorch tensors and create DataLoaders\n",
    "    train_dataset = TensorDataset(torch.tensor(X_train).float(), torch.tensor(y_train).long())\n",
    "    val_dataset = TensorDataset(torch.tensor(X_val).float(), torch.tensor(y_val).long())\n",
    "    train_loader = DataLoader(train_dataset, batch_size=64, shuffle=True)\n",
    "    val_loader = DataLoader(val_dataset, batch_size=64, shuffle=False)\n",
    "    \n",
    "    # Model initialization (re-initialize  model here inside the loop)\n",
    "    model = TabNet(input_dim=408, output_dim=len(np.unique(y_train_val))).to(device)\n",
    "    optimizer = Adam(model.parameters(), lr=0.002)\n",
    "    criterion = nn.CrossEntropyLoss()\n",
    "    \n",
    "    # Train and evaluate the model for this fold\n",
    "    metrics = train_and_evaluate_model(model, train_loader, val_loader, criterion, optimizer, device)\n",
    "    \n",
    "    # Print results for the current fold\n",
    "    print(f\"Results for fold {fold}:\")\n",
    "    print(f\"Training Loss: {np.mean(metrics['train_loss'])}, Validation Loss: {np.mean(metrics['val_loss'])}\")\n",
    "    print(f\"Training Accuracy: {np.mean(metrics['train_accuracy'])}, Validation Accuracy: {np.mean(metrics['val_accuracy'])}\\n\")\n",
    "\n",
    "    # Append fold results to aggregated lists\n",
    "    aggregated_train_losses.append(np.mean(metrics['train_loss']))\n",
    "    aggregated_val_losses.append(np.mean(metrics['val_loss']))\n",
    "    aggregated_train_accuracies.append(np.mean(metrics['train_accuracy']))\n",
    "    aggregated_val_accuracies.append(np.mean(metrics['val_accuracy']))\n",
    "\n"
   ]
  },
  {
   "cell_type": "markdown",
   "metadata": {},
   "source": [
    "### Results"
   ]
  },
  {
   "cell_type": "code",
   "execution_count": 49,
   "metadata": {},
   "outputs": [
    {
     "name": "stdout",
     "output_type": "stream",
     "text": [
      "Average results across all folds:\n",
      "Average Training Loss: 0.016680972834137716\n",
      "Average Validation Loss: 0.026443068007305955\n",
      "Average Training Accuracy: 0.5957280561788234\n",
      "Average Validation Accuracy: 0.5733218390223923\n"
     ]
    }
   ],
   "source": [
    "# Calculate and print the average results across all folds\n",
    "avg_train_loss = np.mean(aggregated_train_losses)\n",
    "avg_val_loss = np.mean(aggregated_val_losses)\n",
    "avg_train_accuracy = np.mean(aggregated_train_accuracies)\n",
    "avg_val_accuracy = np.mean(aggregated_val_accuracies)\n",
    "\n",
    "print('Average results across all folds:')\n",
    "print(f'Average Training Loss: {avg_train_loss}')\n",
    "print(f'Average Validation Loss: {avg_val_loss}')\n",
    "print(f'Average Training Accuracy: {avg_train_accuracy}')\n",
    "print(f'Average Validation Accuracy: {avg_val_accuracy}')"
   ]
  }
 ],
 "metadata": {
  "kernelspec": {
   "display_name": "radiomics_v2",
   "language": "python",
   "name": "python3"
  },
  "language_info": {
   "codemirror_mode": {
    "name": "ipython",
    "version": 3
   },
   "file_extension": ".py",
   "mimetype": "text/x-python",
   "name": "python",
   "nbconvert_exporter": "python",
   "pygments_lexer": "ipython3",
   "version": "3.9.18"
  }
 },
 "nbformat": 4,
 "nbformat_minor": 2
}
